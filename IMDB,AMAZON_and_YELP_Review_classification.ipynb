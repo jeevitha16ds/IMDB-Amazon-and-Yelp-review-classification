{
  "nbformat": 4,
  "nbformat_minor": 0,
  "metadata": {
    "colab": {
      "name": "IMDB,AMAZON and YELP Review classification.ipynb",
      "provenance": [],
      "collapsed_sections": []
    },
    "kernelspec": {
      "name": "python3",
      "display_name": "Python 3"
    },
    "language_info": {
      "name": "python"
    }
  },
  "cells": [
    {
      "cell_type": "code",
      "metadata": {
        "id": "27s75W1fTcm6"
      },
      "source": [
        "# import basic libraries\n",
        "import numpy as np\n",
        "import pandas as pd\n",
        "import matplotlib.pyplot as plt"
      ],
      "execution_count": 1,
      "outputs": []
    },
    {
      "cell_type": "code",
      "metadata": {
        "id": "WoE7ZUOQUKz5"
      },
      "source": [
        "# read the file\n",
        "data_yelp=pd.read_csv('yelp_labelled.txt',sep='\\t',header=None)\n",
        "data_imdb=pd.read_csv('imdb_labelled.txt',sep='\\t',header=None)\n",
        "data_amazon=pd.read_csv('amazon_cells_labelled.txt',sep='\\t',header=None)"
      ],
      "execution_count": 10,
      "outputs": []
    },
    {
      "cell_type": "code",
      "metadata": {
        "colab": {
          "base_uri": "https://localhost:8080/",
          "height": 206
        },
        "id": "dDis8SwxUSlN",
        "outputId": "15b2c4f6-b9d3-40c1-dd88-e91b802bd420"
      },
      "source": [
        "data_yelp.head()"
      ],
      "execution_count": 4,
      "outputs": [
        {
          "output_type": "execute_result",
          "data": {
            "text/html": [
              "<div>\n",
              "<style scoped>\n",
              "    .dataframe tbody tr th:only-of-type {\n",
              "        vertical-align: middle;\n",
              "    }\n",
              "\n",
              "    .dataframe tbody tr th {\n",
              "        vertical-align: top;\n",
              "    }\n",
              "\n",
              "    .dataframe thead th {\n",
              "        text-align: right;\n",
              "    }\n",
              "</style>\n",
              "<table border=\"1\" class=\"dataframe\">\n",
              "  <thead>\n",
              "    <tr style=\"text-align: right;\">\n",
              "      <th></th>\n",
              "      <th>0</th>\n",
              "      <th>1</th>\n",
              "    </tr>\n",
              "  </thead>\n",
              "  <tbody>\n",
              "    <tr>\n",
              "      <th>0</th>\n",
              "      <td>Wow... Loved this place.</td>\n",
              "      <td>1</td>\n",
              "    </tr>\n",
              "    <tr>\n",
              "      <th>1</th>\n",
              "      <td>Crust is not good.</td>\n",
              "      <td>0</td>\n",
              "    </tr>\n",
              "    <tr>\n",
              "      <th>2</th>\n",
              "      <td>Not tasty and the texture was just nasty.</td>\n",
              "      <td>0</td>\n",
              "    </tr>\n",
              "    <tr>\n",
              "      <th>3</th>\n",
              "      <td>Stopped by during the late May bank holiday of...</td>\n",
              "      <td>1</td>\n",
              "    </tr>\n",
              "    <tr>\n",
              "      <th>4</th>\n",
              "      <td>The selection on the menu was great and so wer...</td>\n",
              "      <td>1</td>\n",
              "    </tr>\n",
              "  </tbody>\n",
              "</table>\n",
              "</div>"
            ],
            "text/plain": [
              "                                                   0  1\n",
              "0                           Wow... Loved this place.  1\n",
              "1                                 Crust is not good.  0\n",
              "2          Not tasty and the texture was just nasty.  0\n",
              "3  Stopped by during the late May bank holiday of...  1\n",
              "4  The selection on the menu was great and so wer...  1"
            ]
          },
          "metadata": {},
          "execution_count": 4
        }
      ]
    },
    {
      "cell_type": "code",
      "metadata": {
        "colab": {
          "base_uri": "https://localhost:8080/",
          "height": 206
        },
        "id": "Bh6A7KS4VB9W",
        "outputId": "9429cfc8-fbb2-40fc-f83a-40300fa136fe"
      },
      "source": [
        "data_imdb.head()"
      ],
      "execution_count": 11,
      "outputs": [
        {
          "output_type": "execute_result",
          "data": {
            "text/html": [
              "<div>\n",
              "<style scoped>\n",
              "    .dataframe tbody tr th:only-of-type {\n",
              "        vertical-align: middle;\n",
              "    }\n",
              "\n",
              "    .dataframe tbody tr th {\n",
              "        vertical-align: top;\n",
              "    }\n",
              "\n",
              "    .dataframe thead th {\n",
              "        text-align: right;\n",
              "    }\n",
              "</style>\n",
              "<table border=\"1\" class=\"dataframe\">\n",
              "  <thead>\n",
              "    <tr style=\"text-align: right;\">\n",
              "      <th></th>\n",
              "      <th>0</th>\n",
              "      <th>1</th>\n",
              "    </tr>\n",
              "  </thead>\n",
              "  <tbody>\n",
              "    <tr>\n",
              "      <th>0</th>\n",
              "      <td>A very, very, very slow-moving, aimless movie ...</td>\n",
              "      <td>0</td>\n",
              "    </tr>\n",
              "    <tr>\n",
              "      <th>1</th>\n",
              "      <td>Not sure who was more lost - the flat characte...</td>\n",
              "      <td>0</td>\n",
              "    </tr>\n",
              "    <tr>\n",
              "      <th>2</th>\n",
              "      <td>Attempting artiness with black &amp; white and cle...</td>\n",
              "      <td>0</td>\n",
              "    </tr>\n",
              "    <tr>\n",
              "      <th>3</th>\n",
              "      <td>Very little music or anything to speak of.</td>\n",
              "      <td>0</td>\n",
              "    </tr>\n",
              "    <tr>\n",
              "      <th>4</th>\n",
              "      <td>The best scene in the movie was when Gerardo i...</td>\n",
              "      <td>1</td>\n",
              "    </tr>\n",
              "  </tbody>\n",
              "</table>\n",
              "</div>"
            ],
            "text/plain": [
              "                                                   0  1\n",
              "0  A very, very, very slow-moving, aimless movie ...  0\n",
              "1  Not sure who was more lost - the flat characte...  0\n",
              "2  Attempting artiness with black & white and cle...  0\n",
              "3       Very little music or anything to speak of.    0\n",
              "4  The best scene in the movie was when Gerardo i...  1"
            ]
          },
          "metadata": {},
          "execution_count": 11
        }
      ]
    },
    {
      "cell_type": "code",
      "metadata": {
        "colab": {
          "base_uri": "https://localhost:8080/",
          "height": 206
        },
        "id": "Fq-NffFYVErB",
        "outputId": "38799905-a6d7-44a7-8c9e-b21cb71aa3ad"
      },
      "source": [
        "data_amazon.head()"
      ],
      "execution_count": 12,
      "outputs": [
        {
          "output_type": "execute_result",
          "data": {
            "text/html": [
              "<div>\n",
              "<style scoped>\n",
              "    .dataframe tbody tr th:only-of-type {\n",
              "        vertical-align: middle;\n",
              "    }\n",
              "\n",
              "    .dataframe tbody tr th {\n",
              "        vertical-align: top;\n",
              "    }\n",
              "\n",
              "    .dataframe thead th {\n",
              "        text-align: right;\n",
              "    }\n",
              "</style>\n",
              "<table border=\"1\" class=\"dataframe\">\n",
              "  <thead>\n",
              "    <tr style=\"text-align: right;\">\n",
              "      <th></th>\n",
              "      <th>0</th>\n",
              "      <th>1</th>\n",
              "    </tr>\n",
              "  </thead>\n",
              "  <tbody>\n",
              "    <tr>\n",
              "      <th>0</th>\n",
              "      <td>So there is no way for me to plug it in here i...</td>\n",
              "      <td>0</td>\n",
              "    </tr>\n",
              "    <tr>\n",
              "      <th>1</th>\n",
              "      <td>Good case, Excellent value.</td>\n",
              "      <td>1</td>\n",
              "    </tr>\n",
              "    <tr>\n",
              "      <th>2</th>\n",
              "      <td>Great for the jawbone.</td>\n",
              "      <td>1</td>\n",
              "    </tr>\n",
              "    <tr>\n",
              "      <th>3</th>\n",
              "      <td>Tied to charger for conversations lasting more...</td>\n",
              "      <td>0</td>\n",
              "    </tr>\n",
              "    <tr>\n",
              "      <th>4</th>\n",
              "      <td>The mic is great.</td>\n",
              "      <td>1</td>\n",
              "    </tr>\n",
              "  </tbody>\n",
              "</table>\n",
              "</div>"
            ],
            "text/plain": [
              "                                                   0  1\n",
              "0  So there is no way for me to plug it in here i...  0\n",
              "1                        Good case, Excellent value.  1\n",
              "2                             Great for the jawbone.  1\n",
              "3  Tied to charger for conversations lasting more...  0\n",
              "4                                  The mic is great.  1"
            ]
          },
          "metadata": {},
          "execution_count": 12
        }
      ]
    },
    {
      "cell_type": "code",
      "metadata": {
        "id": "xBek-PNSUWvn"
      },
      "source": [
        "column_name=['Review','Sentiment']\n",
        "data_yelp.columns=column_name\n",
        "data_imdb.columns=column_name\n",
        "data_amazon.columns=column_name"
      ],
      "execution_count": 13,
      "outputs": []
    },
    {
      "cell_type": "code",
      "metadata": {
        "colab": {
          "base_uri": "https://localhost:8080/",
          "height": 206
        },
        "id": "1O3Vig7xUpJT",
        "outputId": "4aa53248-4242-4a38-b70d-35e68219f580"
      },
      "source": [
        "data_yelp.head()"
      ],
      "execution_count": 14,
      "outputs": [
        {
          "output_type": "execute_result",
          "data": {
            "text/html": [
              "<div>\n",
              "<style scoped>\n",
              "    .dataframe tbody tr th:only-of-type {\n",
              "        vertical-align: middle;\n",
              "    }\n",
              "\n",
              "    .dataframe tbody tr th {\n",
              "        vertical-align: top;\n",
              "    }\n",
              "\n",
              "    .dataframe thead th {\n",
              "        text-align: right;\n",
              "    }\n",
              "</style>\n",
              "<table border=\"1\" class=\"dataframe\">\n",
              "  <thead>\n",
              "    <tr style=\"text-align: right;\">\n",
              "      <th></th>\n",
              "      <th>Review</th>\n",
              "      <th>Sentiment</th>\n",
              "    </tr>\n",
              "  </thead>\n",
              "  <tbody>\n",
              "    <tr>\n",
              "      <th>0</th>\n",
              "      <td>Wow... Loved this place.</td>\n",
              "      <td>1</td>\n",
              "    </tr>\n",
              "    <tr>\n",
              "      <th>1</th>\n",
              "      <td>Crust is not good.</td>\n",
              "      <td>0</td>\n",
              "    </tr>\n",
              "    <tr>\n",
              "      <th>2</th>\n",
              "      <td>Not tasty and the texture was just nasty.</td>\n",
              "      <td>0</td>\n",
              "    </tr>\n",
              "    <tr>\n",
              "      <th>3</th>\n",
              "      <td>Stopped by during the late May bank holiday of...</td>\n",
              "      <td>1</td>\n",
              "    </tr>\n",
              "    <tr>\n",
              "      <th>4</th>\n",
              "      <td>The selection on the menu was great and so wer...</td>\n",
              "      <td>1</td>\n",
              "    </tr>\n",
              "  </tbody>\n",
              "</table>\n",
              "</div>"
            ],
            "text/plain": [
              "                                              Review  Sentiment\n",
              "0                           Wow... Loved this place.          1\n",
              "1                                 Crust is not good.          0\n",
              "2          Not tasty and the texture was just nasty.          0\n",
              "3  Stopped by during the late May bank holiday of...          1\n",
              "4  The selection on the menu was great and so wer...          1"
            ]
          },
          "metadata": {},
          "execution_count": 14
        }
      ]
    },
    {
      "cell_type": "code",
      "metadata": {
        "colab": {
          "base_uri": "https://localhost:8080/",
          "height": 206
        },
        "id": "SVM9LnPIUsRo",
        "outputId": "78a51ff9-6792-45ab-8538-a476eaa99367"
      },
      "source": [
        "data_imdb.head()"
      ],
      "execution_count": 15,
      "outputs": [
        {
          "output_type": "execute_result",
          "data": {
            "text/html": [
              "<div>\n",
              "<style scoped>\n",
              "    .dataframe tbody tr th:only-of-type {\n",
              "        vertical-align: middle;\n",
              "    }\n",
              "\n",
              "    .dataframe tbody tr th {\n",
              "        vertical-align: top;\n",
              "    }\n",
              "\n",
              "    .dataframe thead th {\n",
              "        text-align: right;\n",
              "    }\n",
              "</style>\n",
              "<table border=\"1\" class=\"dataframe\">\n",
              "  <thead>\n",
              "    <tr style=\"text-align: right;\">\n",
              "      <th></th>\n",
              "      <th>Review</th>\n",
              "      <th>Sentiment</th>\n",
              "    </tr>\n",
              "  </thead>\n",
              "  <tbody>\n",
              "    <tr>\n",
              "      <th>0</th>\n",
              "      <td>A very, very, very slow-moving, aimless movie ...</td>\n",
              "      <td>0</td>\n",
              "    </tr>\n",
              "    <tr>\n",
              "      <th>1</th>\n",
              "      <td>Not sure who was more lost - the flat characte...</td>\n",
              "      <td>0</td>\n",
              "    </tr>\n",
              "    <tr>\n",
              "      <th>2</th>\n",
              "      <td>Attempting artiness with black &amp; white and cle...</td>\n",
              "      <td>0</td>\n",
              "    </tr>\n",
              "    <tr>\n",
              "      <th>3</th>\n",
              "      <td>Very little music or anything to speak of.</td>\n",
              "      <td>0</td>\n",
              "    </tr>\n",
              "    <tr>\n",
              "      <th>4</th>\n",
              "      <td>The best scene in the movie was when Gerardo i...</td>\n",
              "      <td>1</td>\n",
              "    </tr>\n",
              "  </tbody>\n",
              "</table>\n",
              "</div>"
            ],
            "text/plain": [
              "                                              Review  Sentiment\n",
              "0  A very, very, very slow-moving, aimless movie ...          0\n",
              "1  Not sure who was more lost - the flat characte...          0\n",
              "2  Attempting artiness with black & white and cle...          0\n",
              "3       Very little music or anything to speak of.            0\n",
              "4  The best scene in the movie was when Gerardo i...          1"
            ]
          },
          "metadata": {},
          "execution_count": 15
        }
      ]
    },
    {
      "cell_type": "code",
      "metadata": {
        "colab": {
          "base_uri": "https://localhost:8080/",
          "height": 206
        },
        "id": "nWAb4Io5UvIr",
        "outputId": "a548ab33-07cc-49b9-a470-fddbcdb4d844"
      },
      "source": [
        "data_amazon.head()"
      ],
      "execution_count": 16,
      "outputs": [
        {
          "output_type": "execute_result",
          "data": {
            "text/html": [
              "<div>\n",
              "<style scoped>\n",
              "    .dataframe tbody tr th:only-of-type {\n",
              "        vertical-align: middle;\n",
              "    }\n",
              "\n",
              "    .dataframe tbody tr th {\n",
              "        vertical-align: top;\n",
              "    }\n",
              "\n",
              "    .dataframe thead th {\n",
              "        text-align: right;\n",
              "    }\n",
              "</style>\n",
              "<table border=\"1\" class=\"dataframe\">\n",
              "  <thead>\n",
              "    <tr style=\"text-align: right;\">\n",
              "      <th></th>\n",
              "      <th>Review</th>\n",
              "      <th>Sentiment</th>\n",
              "    </tr>\n",
              "  </thead>\n",
              "  <tbody>\n",
              "    <tr>\n",
              "      <th>0</th>\n",
              "      <td>So there is no way for me to plug it in here i...</td>\n",
              "      <td>0</td>\n",
              "    </tr>\n",
              "    <tr>\n",
              "      <th>1</th>\n",
              "      <td>Good case, Excellent value.</td>\n",
              "      <td>1</td>\n",
              "    </tr>\n",
              "    <tr>\n",
              "      <th>2</th>\n",
              "      <td>Great for the jawbone.</td>\n",
              "      <td>1</td>\n",
              "    </tr>\n",
              "    <tr>\n",
              "      <th>3</th>\n",
              "      <td>Tied to charger for conversations lasting more...</td>\n",
              "      <td>0</td>\n",
              "    </tr>\n",
              "    <tr>\n",
              "      <th>4</th>\n",
              "      <td>The mic is great.</td>\n",
              "      <td>1</td>\n",
              "    </tr>\n",
              "  </tbody>\n",
              "</table>\n",
              "</div>"
            ],
            "text/plain": [
              "                                              Review  Sentiment\n",
              "0  So there is no way for me to plug it in here i...          0\n",
              "1                        Good case, Excellent value.          1\n",
              "2                             Great for the jawbone.          1\n",
              "3  Tied to charger for conversations lasting more...          0\n",
              "4                                  The mic is great.          1"
            ]
          },
          "metadata": {},
          "execution_count": 16
        }
      ]
    },
    {
      "cell_type": "code",
      "metadata": {
        "colab": {
          "base_uri": "https://localhost:8080/"
        },
        "id": "4UgKddf3VRuH",
        "outputId": "c4d273bc-80dc-4656-9aa1-26fbc04da8bf"
      },
      "source": [
        "print('Yelp---',data_yelp.shape)\n",
        "print('imdb---',data_imdb.shape)\n",
        "print('amazon---',data_amazon.shape)"
      ],
      "execution_count": 21,
      "outputs": [
        {
          "output_type": "stream",
          "name": "stdout",
          "text": [
            "Yelp--- (1000, 2)\n",
            "imdb--- (748, 2)\n",
            "amazon--- (1000, 2)\n"
          ]
        }
      ]
    },
    {
      "cell_type": "code",
      "metadata": {
        "id": "g93c89ylVW_o"
      },
      "source": [
        "# append all three datasets together\n",
        "data=data_yelp.append([data_amazon,data_imdb],ignore_index=True)"
      ],
      "execution_count": 22,
      "outputs": []
    },
    {
      "cell_type": "code",
      "metadata": {
        "colab": {
          "base_uri": "https://localhost:8080/"
        },
        "id": "nduFh91EWdd6",
        "outputId": "637c223c-e26a-47e7-97c0-ac1a3efef571"
      },
      "source": [
        "data.shape"
      ],
      "execution_count": 23,
      "outputs": [
        {
          "output_type": "execute_result",
          "data": {
            "text/plain": [
              "(2748, 2)"
            ]
          },
          "metadata": {},
          "execution_count": 23
        }
      ]
    },
    {
      "cell_type": "code",
      "metadata": {
        "colab": {
          "base_uri": "https://localhost:8080/",
          "height": 206
        },
        "id": "TiGSeobBWgRb",
        "outputId": "aa290695-22aa-4d4b-fb70-fa3c8e681efe"
      },
      "source": [
        "data.head()"
      ],
      "execution_count": 24,
      "outputs": [
        {
          "output_type": "execute_result",
          "data": {
            "text/html": [
              "<div>\n",
              "<style scoped>\n",
              "    .dataframe tbody tr th:only-of-type {\n",
              "        vertical-align: middle;\n",
              "    }\n",
              "\n",
              "    .dataframe tbody tr th {\n",
              "        vertical-align: top;\n",
              "    }\n",
              "\n",
              "    .dataframe thead th {\n",
              "        text-align: right;\n",
              "    }\n",
              "</style>\n",
              "<table border=\"1\" class=\"dataframe\">\n",
              "  <thead>\n",
              "    <tr style=\"text-align: right;\">\n",
              "      <th></th>\n",
              "      <th>Review</th>\n",
              "      <th>Sentiment</th>\n",
              "    </tr>\n",
              "  </thead>\n",
              "  <tbody>\n",
              "    <tr>\n",
              "      <th>0</th>\n",
              "      <td>Wow... Loved this place.</td>\n",
              "      <td>1</td>\n",
              "    </tr>\n",
              "    <tr>\n",
              "      <th>1</th>\n",
              "      <td>Crust is not good.</td>\n",
              "      <td>0</td>\n",
              "    </tr>\n",
              "    <tr>\n",
              "      <th>2</th>\n",
              "      <td>Not tasty and the texture was just nasty.</td>\n",
              "      <td>0</td>\n",
              "    </tr>\n",
              "    <tr>\n",
              "      <th>3</th>\n",
              "      <td>Stopped by during the late May bank holiday of...</td>\n",
              "      <td>1</td>\n",
              "    </tr>\n",
              "    <tr>\n",
              "      <th>4</th>\n",
              "      <td>The selection on the menu was great and so wer...</td>\n",
              "      <td>1</td>\n",
              "    </tr>\n",
              "  </tbody>\n",
              "</table>\n",
              "</div>"
            ],
            "text/plain": [
              "                                              Review  Sentiment\n",
              "0                           Wow... Loved this place.          1\n",
              "1                                 Crust is not good.          0\n",
              "2          Not tasty and the texture was just nasty.          0\n",
              "3  Stopped by during the late May bank holiday of...          1\n",
              "4  The selection on the menu was great and so wer...          1"
            ]
          },
          "metadata": {},
          "execution_count": 24
        }
      ]
    },
    {
      "cell_type": "code",
      "metadata": {
        "colab": {
          "base_uri": "https://localhost:8080/"
        },
        "id": "iqOsTXi5Wij6",
        "outputId": "d9f683b4-e654-4cc5-ba7c-17cef4ad922d"
      },
      "source": [
        "# check distribution of sentiments\n",
        "data['Sentiment'].value_counts()\n",
        "# almost balanced"
      ],
      "execution_count": 25,
      "outputs": [
        {
          "output_type": "execute_result",
          "data": {
            "text/plain": [
              "1    1386\n",
              "0    1362\n",
              "Name: Sentiment, dtype: int64"
            ]
          },
          "metadata": {},
          "execution_count": 25
        }
      ]
    },
    {
      "cell_type": "code",
      "metadata": {
        "colab": {
          "base_uri": "https://localhost:8080/"
        },
        "id": "1eRVyUQ4Wrh7",
        "outputId": "1f3a02c7-fefe-4dfc-e761-d85605ed1f36"
      },
      "source": [
        "# check for missing values\n",
        "data.isnull().sum()"
      ],
      "execution_count": 27,
      "outputs": [
        {
          "output_type": "execute_result",
          "data": {
            "text/plain": [
              "Review       0\n",
              "Sentiment    0\n",
              "dtype: int64"
            ]
          },
          "metadata": {},
          "execution_count": 27
        }
      ]
    },
    {
      "cell_type": "markdown",
      "metadata": {
        "id": "scgV4H9XW7Vq"
      },
      "source": [
        "# Text preprocessing "
      ]
    },
    {
      "cell_type": "code",
      "metadata": {
        "id": "KkhO9tI4W2dT"
      },
      "source": [
        "x=data['Review']\n",
        "y=data['Sentiment']"
      ],
      "execution_count": 28,
      "outputs": []
    },
    {
      "cell_type": "code",
      "metadata": {
        "id": "xbsLINuPXa35"
      },
      "source": [
        "# we use spacy library to remove punctuations, stop words and lemmetisation."
      ],
      "execution_count": null,
      "outputs": []
    },
    {
      "cell_type": "code",
      "metadata": {
        "id": "j-ZfvPrfaF4q"
      },
      "source": [
        "import string"
      ],
      "execution_count": 39,
      "outputs": []
    },
    {
      "cell_type": "code",
      "metadata": {
        "id": "XA1dbqeLaF9S"
      },
      "source": [
        "punct = string.punctuation"
      ],
      "execution_count": 40,
      "outputs": []
    },
    {
      "cell_type": "code",
      "metadata": {
        "colab": {
          "base_uri": "https://localhost:8080/",
          "height": 35
        },
        "id": "OACD_HrSaGAi",
        "outputId": "0cdd6668-e041-490c-d80c-321b758081ef"
      },
      "source": [
        "punct"
      ],
      "execution_count": 41,
      "outputs": [
        {
          "output_type": "execute_result",
          "data": {
            "application/vnd.google.colaboratory.intrinsic+json": {
              "type": "string"
            },
            "text/plain": [
              "'!\"#$%&\\'()*+,-./:;<=>?@[\\\\]^_`{|}~'"
            ]
          },
          "metadata": {},
          "execution_count": 41
        }
      ]
    },
    {
      "cell_type": "code",
      "metadata": {
        "id": "5urvA4p8aGDS"
      },
      "source": [
        "from spacy.lang.en.stop_words import STOP_WORDS"
      ],
      "execution_count": 42,
      "outputs": []
    },
    {
      "cell_type": "code",
      "metadata": {
        "id": "cdJVl0kPaGGS"
      },
      "source": [
        "stopwords = list(STOP_WORDS) # list of stopwords"
      ],
      "execution_count": 43,
      "outputs": []
    },
    {
      "cell_type": "code",
      "metadata": {
        "id": "xO0jLXKbYFng"
      },
      "source": [
        "import spacy \n",
        "\n",
        "nlp = spacy.load('en_core_web_sm')\n",
        "\n",
        "def text_data_cleaning(sentence):\n",
        "  doc = nlp(sentence)   # load spacy model\n",
        "\n",
        "  tokens = [] # list of tokens\n",
        "  for token in doc:\n",
        "    if token.lemma_ != \"-PRON-\":    #if word is not proper noun then convert into lower case\n",
        "      value = token.lemma_.lower().strip()\n",
        "    else:\n",
        "      value = token.lower_\n",
        "    tokens.append(value)\n",
        "  \n",
        "  cleaned_tokens = []\n",
        "  for token in tokens:\n",
        "    if token not in stopwords and token not in punct:\n",
        "      cleaned_tokens.append(token)\n",
        "  return cleaned_tokens"
      ],
      "execution_count": 37,
      "outputs": []
    },
    {
      "cell_type": "code",
      "metadata": {
        "colab": {
          "base_uri": "https://localhost:8080/"
        },
        "id": "LZc7bBbVaWgU",
        "outputId": "f2177393-3707-48cc-938e-20fd0e9e650f"
      },
      "source": [
        "stopwords"
      ],
      "execution_count": 44,
      "outputs": [
        {
          "output_type": "execute_result",
          "data": {
            "text/plain": [
              "['again',\n",
              " 'therein',\n",
              " 'where',\n",
              " 'too',\n",
              " 'nobody',\n",
              " 'hereafter',\n",
              " 'still',\n",
              " 'next',\n",
              " 'whoever',\n",
              " 'not',\n",
              " 'me',\n",
              " 'get',\n",
              " 'toward',\n",
              " 'except',\n",
              " 'twelve',\n",
              " 'ourselves',\n",
              " 'ours',\n",
              " 'am',\n",
              " 'during',\n",
              " 'throughout',\n",
              " 'only',\n",
              " 'about',\n",
              " 'also',\n",
              " 'wherever',\n",
              " 'an',\n",
              " 'just',\n",
              " 'himself',\n",
              " 'hereby',\n",
              " 'much',\n",
              " 'one',\n",
              " \"n't\",\n",
              " 'within',\n",
              " 'above',\n",
              " 'therefore',\n",
              " 'few',\n",
              " 'us',\n",
              " '‘s',\n",
              " 'thru',\n",
              " 'around',\n",
              " 'rather',\n",
              " 'becomes',\n",
              " 'front',\n",
              " 'after',\n",
              " 'my',\n",
              " 'two',\n",
              " 'might',\n",
              " 'whenever',\n",
              " 'regarding',\n",
              " 'every',\n",
              " 'our',\n",
              " 'part',\n",
              " \"'re\",\n",
              " 'onto',\n",
              " 'that',\n",
              " 'and',\n",
              " 'often',\n",
              " 'sixty',\n",
              " 'some',\n",
              " 'yourselves',\n",
              " 'always',\n",
              " 'ca',\n",
              " 'anywhere',\n",
              " 'at',\n",
              " 'without',\n",
              " 'can',\n",
              " 'since',\n",
              " 'may',\n",
              " 'what',\n",
              " 'together',\n",
              " 'same',\n",
              " 'beyond',\n",
              " 'formerly',\n",
              " 'four',\n",
              " 'moreover',\n",
              " 'been',\n",
              " 'done',\n",
              " 'a',\n",
              " 'seems',\n",
              " 'via',\n",
              " 'sometime',\n",
              " 'his',\n",
              " 'he',\n",
              " 'through',\n",
              " 'be',\n",
              " 'amongst',\n",
              " 'alone',\n",
              " 'else',\n",
              " 'into',\n",
              " 'none',\n",
              " 'beforehand',\n",
              " 'another',\n",
              " 'they',\n",
              " 'afterwards',\n",
              " 'due',\n",
              " 'by',\n",
              " 'most',\n",
              " 'whole',\n",
              " 'here',\n",
              " 'mine',\n",
              " 'three',\n",
              " 'fifteen',\n",
              " 'six',\n",
              " 'serious',\n",
              " 'put',\n",
              " 'but',\n",
              " 'off',\n",
              " 'for',\n",
              " 'yet',\n",
              " 'such',\n",
              " 'empty',\n",
              " 'among',\n",
              " 'forty',\n",
              " 'on',\n",
              " 'whatever',\n",
              " 'has',\n",
              " 'full',\n",
              " 'side',\n",
              " 'upon',\n",
              " 'namely',\n",
              " 'until',\n",
              " 'thereby',\n",
              " 'used',\n",
              " 'although',\n",
              " 'made',\n",
              " 'nevertheless',\n",
              " 'any',\n",
              " 'along',\n",
              " 'latterly',\n",
              " 'neither',\n",
              " \"'m\",\n",
              " 'top',\n",
              " 'with',\n",
              " 'of',\n",
              " 'do',\n",
              " 'meanwhile',\n",
              " 'than',\n",
              " 'keep',\n",
              " 'or',\n",
              " 'bottom',\n",
              " 'five',\n",
              " 'give',\n",
              " 'other',\n",
              " 'there',\n",
              " 'should',\n",
              " '‘m',\n",
              " 'whence',\n",
              " 'almost',\n",
              " '’s',\n",
              " 'all',\n",
              " 'herein',\n",
              " 'seem',\n",
              " 'see',\n",
              " 'across',\n",
              " 'before',\n",
              " 'however',\n",
              " 'please',\n",
              " 'she',\n",
              " 'quite',\n",
              " 'became',\n",
              " 'your',\n",
              " 'eleven',\n",
              " 'hereupon',\n",
              " 'whither',\n",
              " 'these',\n",
              " 'we',\n",
              " 'being',\n",
              " 'is',\n",
              " '‘d',\n",
              " 'now',\n",
              " 'ever',\n",
              " 'between',\n",
              " 'enough',\n",
              " 'thence',\n",
              " 'down',\n",
              " 'further',\n",
              " 'ten',\n",
              " 'behind',\n",
              " 'less',\n",
              " 'per',\n",
              " 'elsewhere',\n",
              " 'thus',\n",
              " 'several',\n",
              " 'from',\n",
              " 'show',\n",
              " 'which',\n",
              " '’ve',\n",
              " 'both',\n",
              " 'because',\n",
              " 'make',\n",
              " 'hence',\n",
              " 'nine',\n",
              " '’m',\n",
              " 'take',\n",
              " 'say',\n",
              " 'under',\n",
              " 'whom',\n",
              " 'beside',\n",
              " 'either',\n",
              " 'would',\n",
              " 'in',\n",
              " 'was',\n",
              " 'third',\n",
              " 'him',\n",
              " 'already',\n",
              " 'besides',\n",
              " 'own',\n",
              " 'nowhere',\n",
              " '’d',\n",
              " 'whether',\n",
              " 'seemed',\n",
              " 'last',\n",
              " 'the',\n",
              " 'were',\n",
              " 'name',\n",
              " 'then',\n",
              " 'whereupon',\n",
              " 'really',\n",
              " 'had',\n",
              " \"'ll\",\n",
              " 'it',\n",
              " 'once',\n",
              " 'have',\n",
              " 'anyone',\n",
              " 'mostly',\n",
              " 'could',\n",
              " 'towards',\n",
              " 'who',\n",
              " 'somehow',\n",
              " 'everyone',\n",
              " 'call',\n",
              " 'so',\n",
              " 'twenty',\n",
              " 'even',\n",
              " 'against',\n",
              " 'while',\n",
              " 'though',\n",
              " 'well',\n",
              " 'latter',\n",
              " 'least',\n",
              " 'how',\n",
              " '’ll',\n",
              " 'nor',\n",
              " 'this',\n",
              " 'back',\n",
              " 'something',\n",
              " 'n’t',\n",
              " 'thereupon',\n",
              " 'whose',\n",
              " 'move',\n",
              " 'someone',\n",
              " 'whereafter',\n",
              " 'sometimes',\n",
              " 'wherein',\n",
              " 'thereafter',\n",
              " '‘ve',\n",
              " 'somewhere',\n",
              " 'does',\n",
              " 'everything',\n",
              " 'her',\n",
              " '‘ll',\n",
              " 'to',\n",
              " 'fifty',\n",
              " 'go',\n",
              " 'over',\n",
              " 'you',\n",
              " 'perhaps',\n",
              " 'nothing',\n",
              " 'did',\n",
              " 'become',\n",
              " 'using',\n",
              " 'never',\n",
              " 'herself',\n",
              " 'anyhow',\n",
              " 'eight',\n",
              " 'noone',\n",
              " 'anything',\n",
              " 'amount',\n",
              " 'everywhere',\n",
              " 'whereby',\n",
              " 'becoming',\n",
              " 'yourself',\n",
              " \"'ve\",\n",
              " \"'s\",\n",
              " 'cannot',\n",
              " 'first',\n",
              " 're',\n",
              " 'very',\n",
              " 'those',\n",
              " 'n‘t',\n",
              " 'seeming',\n",
              " 'doing',\n",
              " 'myself',\n",
              " 'otherwise',\n",
              " '‘re',\n",
              " 'each',\n",
              " 'will',\n",
              " 'below',\n",
              " 'indeed',\n",
              " 'hers',\n",
              " 'must',\n",
              " 'its',\n",
              " 'hundred',\n",
              " 'i',\n",
              " 'when',\n",
              " 'anyway',\n",
              " \"'d\",\n",
              " 'why',\n",
              " 'out',\n",
              " 'itself',\n",
              " 'more',\n",
              " 'unless',\n",
              " 'themselves',\n",
              " 'their',\n",
              " 'if',\n",
              " 'as',\n",
              " 'many',\n",
              " 'up',\n",
              " 'former',\n",
              " 'yours',\n",
              " 'various',\n",
              " 'whereas',\n",
              " 'them',\n",
              " 'are',\n",
              " 'no',\n",
              " '’re',\n",
              " 'others']"
            ]
          },
          "metadata": {},
          "execution_count": 44
        }
      ]
    },
    {
      "cell_type": "code",
      "metadata": {
        "colab": {
          "base_uri": "https://localhost:8080/"
        },
        "id": "0RgWiAPOacmT",
        "outputId": "b9e69328-1f7a-4ca7-88ee-edf1346286e0"
      },
      "source": [
        "text_data_cleaning(\"Hello all, It's a beautiful day outside there!\")\n",
        "# stopwords and punctuations removed"
      ],
      "execution_count": 45,
      "outputs": [
        {
          "output_type": "execute_result",
          "data": {
            "text/plain": [
              "['hello', 'beautiful', 'day', 'outside']"
            ]
          },
          "metadata": {},
          "execution_count": 45
        }
      ]
    },
    {
      "cell_type": "markdown",
      "metadata": {
        "id": "_N78YNuAc35s"
      },
      "source": [
        "# support vector machine\n"
      ]
    },
    {
      "cell_type": "code",
      "metadata": {
        "id": "DOqsLzCTZEcJ"
      },
      "source": [
        "from sklearn.svm import LinearSVC\n",
        "from sklearn.feature_extraction.text import TfidfVectorizer\n",
        "from sklearn.pipeline import Pipeline"
      ],
      "execution_count": 46,
      "outputs": []
    },
    {
      "cell_type": "code",
      "metadata": {
        "id": "j7KgBB6iZ_db"
      },
      "source": [
        "tfidf = TfidfVectorizer(tokenizer=text_data_cleaning)\n"
      ],
      "execution_count": 47,
      "outputs": []
    },
    {
      "cell_type": "code",
      "metadata": {
        "id": "40nBfi1hah08"
      },
      "source": [
        "classifier = LinearSVC()"
      ],
      "execution_count": 48,
      "outputs": []
    },
    {
      "cell_type": "code",
      "metadata": {
        "id": "X8Ai66KMak5a"
      },
      "source": [
        "from sklearn.model_selection import train_test_split\n",
        "x_train, x_test, y_train, y_test = train_test_split(x, y, test_size = 0.2, random_state = 0)"
      ],
      "execution_count": 49,
      "outputs": []
    },
    {
      "cell_type": "code",
      "metadata": {
        "id": "qpdem3chanpk"
      },
      "source": [
        "model = Pipeline([('tfidf',tfidf), ('clf',classifier)])"
      ],
      "execution_count": 50,
      "outputs": []
    },
    {
      "cell_type": "code",
      "metadata": {
        "colab": {
          "base_uri": "https://localhost:8080/"
        },
        "id": "8g7915R0a1tv",
        "outputId": "b1eb1bbc-3cfe-49c1-8dda-04b4178aefb7"
      },
      "source": [
        "model.fit(x_train, y_train)"
      ],
      "execution_count": 51,
      "outputs": [
        {
          "output_type": "execute_result",
          "data": {
            "text/plain": [
              "Pipeline(steps=[('tfidf',\n",
              "                 TfidfVectorizer(tokenizer=<function text_data_cleaning at 0x7f0cc9188830>)),\n",
              "                ('clf', LinearSVC())])"
            ]
          },
          "metadata": {},
          "execution_count": 51
        }
      ]
    },
    {
      "cell_type": "code",
      "metadata": {
        "id": "S7klGDTva_9q"
      },
      "source": [
        "y_pred =model.predict(x_test)"
      ],
      "execution_count": 53,
      "outputs": []
    },
    {
      "cell_type": "code",
      "metadata": {
        "id": "QmtfTgfNa3qT"
      },
      "source": [
        "from sklearn.metrics import accuracy_score, classification_report, confusion_matrix"
      ],
      "execution_count": 54,
      "outputs": []
    },
    {
      "cell_type": "code",
      "metadata": {
        "colab": {
          "base_uri": "https://localhost:8080/"
        },
        "id": "uN2u7Mmia8TN",
        "outputId": "8d183253-145e-49f0-81e2-367b718349db"
      },
      "source": [
        "confusion_matrix(y_test, y_pred)"
      ],
      "execution_count": 55,
      "outputs": [
        {
          "output_type": "execute_result",
          "data": {
            "text/plain": [
              "array([[201,  78],\n",
              "       [ 50, 221]])"
            ]
          },
          "metadata": {},
          "execution_count": 55
        }
      ]
    },
    {
      "cell_type": "code",
      "metadata": {
        "colab": {
          "base_uri": "https://localhost:8080/"
        },
        "id": "vf5jLc26bDu2",
        "outputId": "e82c4d1b-14e0-4a87-fd18-942da8075842"
      },
      "source": [
        "accuracy_score(y_test,y_pred)"
      ],
      "execution_count": 56,
      "outputs": [
        {
          "output_type": "execute_result",
          "data": {
            "text/plain": [
              "0.7672727272727272"
            ]
          },
          "metadata": {},
          "execution_count": 56
        }
      ]
    },
    {
      "cell_type": "code",
      "metadata": {
        "colab": {
          "base_uri": "https://localhost:8080/"
        },
        "id": "2vLVG2_QbFvj",
        "outputId": "fa482800-1602-4244-dce8-5b8c27ea57f7"
      },
      "source": [
        "print(classification_report(y_test,y_pred))"
      ],
      "execution_count": 58,
      "outputs": [
        {
          "output_type": "stream",
          "name": "stdout",
          "text": [
            "              precision    recall  f1-score   support\n",
            "\n",
            "           0       0.80      0.72      0.76       279\n",
            "           1       0.74      0.82      0.78       271\n",
            "\n",
            "    accuracy                           0.77       550\n",
            "   macro avg       0.77      0.77      0.77       550\n",
            "weighted avg       0.77      0.77      0.77       550\n",
            "\n"
          ]
        }
      ]
    },
    {
      "cell_type": "markdown",
      "metadata": {
        "id": "WZZFrUlkc8Ar"
      },
      "source": [
        "XGB Classifier\n"
      ]
    },
    {
      "cell_type": "code",
      "metadata": {
        "id": "hp5ALZOvbYYm"
      },
      "source": [
        "from xgboost import XGBClassifier\n",
        "classifier=XGBClassifier()"
      ],
      "execution_count": 65,
      "outputs": []
    },
    {
      "cell_type": "code",
      "metadata": {
        "id": "U9iM32b3bjpD"
      },
      "source": [
        "model = Pipeline([('tfidf',tfidf), ('clf',classifier)])"
      ],
      "execution_count": 66,
      "outputs": []
    },
    {
      "cell_type": "code",
      "metadata": {
        "colab": {
          "base_uri": "https://localhost:8080/"
        },
        "id": "vtVYB5fPbo9i",
        "outputId": "9d09a59a-38da-4939-8e52-c8eb3b55b7d7"
      },
      "source": [
        "model.fit(x_train, y_train)"
      ],
      "execution_count": 67,
      "outputs": [
        {
          "output_type": "execute_result",
          "data": {
            "text/plain": [
              "Pipeline(steps=[('tfidf',\n",
              "                 TfidfVectorizer(tokenizer=<function text_data_cleaning at 0x7f0cc9188830>)),\n",
              "                ('clf', XGBClassifier())])"
            ]
          },
          "metadata": {},
          "execution_count": 67
        }
      ]
    },
    {
      "cell_type": "code",
      "metadata": {
        "id": "TJmM0n7Mbq7o"
      },
      "source": [
        "y_pred =model.predict(x_test)"
      ],
      "execution_count": 68,
      "outputs": []
    },
    {
      "cell_type": "code",
      "metadata": {
        "colab": {
          "base_uri": "https://localhost:8080/"
        },
        "id": "MpqmrnvEbuLV",
        "outputId": "3ddff3b9-e7a7-4a58-d9d6-3b93e16c4f5a"
      },
      "source": [
        "confusion_matrix(y_test, y_pred)"
      ],
      "execution_count": 69,
      "outputs": [
        {
          "output_type": "execute_result",
          "data": {
            "text/plain": [
              "array([[253,  26],\n",
              "       [127, 144]])"
            ]
          },
          "metadata": {},
          "execution_count": 69
        }
      ]
    },
    {
      "cell_type": "code",
      "metadata": {
        "colab": {
          "base_uri": "https://localhost:8080/"
        },
        "id": "ZTYe9hiGb2wV",
        "outputId": "63a1c3de-be9a-41fa-fb84-f189360e29cc"
      },
      "source": [
        "accuracy_score(y_test,y_pred)"
      ],
      "execution_count": 70,
      "outputs": [
        {
          "output_type": "execute_result",
          "data": {
            "text/plain": [
              "0.7218181818181818"
            ]
          },
          "metadata": {},
          "execution_count": 70
        }
      ]
    },
    {
      "cell_type": "code",
      "metadata": {
        "colab": {
          "base_uri": "https://localhost:8080/"
        },
        "id": "ap0L2KdRb4u5",
        "outputId": "8361bc65-423a-4ec1-965f-1a0d8cbe0d17"
      },
      "source": [
        "print(classification_report(y_test,y_pred))"
      ],
      "execution_count": 71,
      "outputs": [
        {
          "output_type": "stream",
          "name": "stdout",
          "text": [
            "              precision    recall  f1-score   support\n",
            "\n",
            "           0       0.67      0.91      0.77       279\n",
            "           1       0.85      0.53      0.65       271\n",
            "\n",
            "    accuracy                           0.72       550\n",
            "   macro avg       0.76      0.72      0.71       550\n",
            "weighted avg       0.76      0.72      0.71       550\n",
            "\n"
          ]
        }
      ]
    },
    {
      "cell_type": "code",
      "metadata": {
        "id": "20HMpv2EdIky"
      },
      "source": [
        ""
      ],
      "execution_count": null,
      "outputs": []
    }
  ]
}